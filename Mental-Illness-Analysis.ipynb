{
 "cells": [
  {
   "cell_type": "markdown",
   "metadata": {},
   "source": [
    "# Gender, Mental Illness, and Crime in the United States, 2004 Analysis"
   ]
  },
  {
   "cell_type": "code",
   "execution_count": 2,
   "metadata": {},
   "outputs": [
    {
     "name": "stdout",
     "output_type": "stream",
     "text": [
      "Requirement already satisfied: pandas in ./.venv/lib/python3.11/site-packages (from -r requirements.txt (line 1)) (2.2.3)\n",
      "Requirement already satisfied: numpy in ./.venv/lib/python3.11/site-packages (from -r requirements.txt (line 2)) (2.2.2)\n",
      "Requirement already satisfied: matplotlib in ./.venv/lib/python3.11/site-packages (from -r requirements.txt (line 3)) (3.10.0)\n",
      "Requirement already satisfied: scikit-learn in ./.venv/lib/python3.11/site-packages (from -r requirements.txt (line 5)) (1.6.1)\n",
      "Requirement already satisfied: statsmodels in ./.venv/lib/python3.11/site-packages (from -r requirements.txt (line 6)) (0.14.4)\n",
      "Requirement already satisfied: seaborn in ./.venv/lib/python3.11/site-packages (from -r requirements.txt (line 7)) (0.13.2)\n",
      "Requirement already satisfied: scipy in ./.venv/lib/python3.11/site-packages (from -r requirements.txt (line 8)) (1.15.1)\n",
      "Requirement already satisfied: dask[dataframe] in ./.venv/lib/python3.11/site-packages (from -r requirements.txt (line 4)) (2025.1.0)\n",
      "Requirement already satisfied: python-dateutil>=2.8.2 in ./.venv/lib/python3.11/site-packages (from pandas->-r requirements.txt (line 1)) (2.9.0.post0)\n",
      "Requirement already satisfied: pytz>=2020.1 in ./.venv/lib/python3.11/site-packages (from pandas->-r requirements.txt (line 1)) (2024.2)\n",
      "Requirement already satisfied: tzdata>=2022.7 in ./.venv/lib/python3.11/site-packages (from pandas->-r requirements.txt (line 1)) (2025.1)\n",
      "Requirement already satisfied: contourpy>=1.0.1 in ./.venv/lib/python3.11/site-packages (from matplotlib->-r requirements.txt (line 3)) (1.3.1)\n",
      "Requirement already satisfied: cycler>=0.10 in ./.venv/lib/python3.11/site-packages (from matplotlib->-r requirements.txt (line 3)) (0.12.1)\n",
      "Requirement already satisfied: fonttools>=4.22.0 in ./.venv/lib/python3.11/site-packages (from matplotlib->-r requirements.txt (line 3)) (4.55.5)\n",
      "Requirement already satisfied: kiwisolver>=1.3.1 in ./.venv/lib/python3.11/site-packages (from matplotlib->-r requirements.txt (line 3)) (1.4.8)\n",
      "Requirement already satisfied: packaging>=20.0 in ./.venv/lib/python3.11/site-packages (from matplotlib->-r requirements.txt (line 3)) (24.2)\n",
      "Requirement already satisfied: pillow>=8 in ./.venv/lib/python3.11/site-packages (from matplotlib->-r requirements.txt (line 3)) (11.1.0)\n",
      "Requirement already satisfied: pyparsing>=2.3.1 in ./.venv/lib/python3.11/site-packages (from matplotlib->-r requirements.txt (line 3)) (3.2.1)\n",
      "Requirement already satisfied: click>=8.1 in ./.venv/lib/python3.11/site-packages (from dask[dataframe]->-r requirements.txt (line 4)) (8.1.8)\n",
      "Requirement already satisfied: cloudpickle>=3.0.0 in ./.venv/lib/python3.11/site-packages (from dask[dataframe]->-r requirements.txt (line 4)) (3.1.1)\n",
      "Requirement already satisfied: fsspec>=2021.09.0 in ./.venv/lib/python3.11/site-packages (from dask[dataframe]->-r requirements.txt (line 4)) (2024.12.0)\n",
      "Requirement already satisfied: partd>=1.4.0 in ./.venv/lib/python3.11/site-packages (from dask[dataframe]->-r requirements.txt (line 4)) (1.4.2)\n",
      "Requirement already satisfied: pyyaml>=5.3.1 in ./.venv/lib/python3.11/site-packages (from dask[dataframe]->-r requirements.txt (line 4)) (6.0.2)\n",
      "Requirement already satisfied: toolz>=0.10.0 in ./.venv/lib/python3.11/site-packages (from dask[dataframe]->-r requirements.txt (line 4)) (1.0.0)\n",
      "Requirement already satisfied: importlib_metadata>=4.13.0 in ./.venv/lib/python3.11/site-packages (from dask[dataframe]->-r requirements.txt (line 4)) (8.6.1)\n",
      "Requirement already satisfied: pyarrow>=14.0.1 in ./.venv/lib/python3.11/site-packages (from dask[dataframe]->-r requirements.txt (line 4)) (19.0.0)\n",
      "Requirement already satisfied: joblib>=1.2.0 in ./.venv/lib/python3.11/site-packages (from scikit-learn->-r requirements.txt (line 5)) (1.4.2)\n",
      "Requirement already satisfied: threadpoolctl>=3.1.0 in ./.venv/lib/python3.11/site-packages (from scikit-learn->-r requirements.txt (line 5)) (3.5.0)\n",
      "Requirement already satisfied: patsy>=0.5.6 in ./.venv/lib/python3.11/site-packages (from statsmodels->-r requirements.txt (line 6)) (1.0.1)\n",
      "Requirement already satisfied: zipp>=3.20 in ./.venv/lib/python3.11/site-packages (from importlib_metadata>=4.13.0->dask[dataframe]->-r requirements.txt (line 4)) (3.21.0)\n",
      "Requirement already satisfied: locket in ./.venv/lib/python3.11/site-packages (from partd>=1.4.0->dask[dataframe]->-r requirements.txt (line 4)) (1.0.0)\n",
      "Requirement already satisfied: six>=1.5 in ./.venv/lib/python3.11/site-packages (from python-dateutil>=2.8.2->pandas->-r requirements.txt (line 1)) (1.17.0)\n"
     ]
    }
   ],
   "source": [
    "!pip install -r requirements.txt"
   ]
  },
  {
   "cell_type": "markdown",
   "metadata": {},
   "source": [
    "## Sprawdzenie czy dane są dostępne"
   ]
  },
  {
   "cell_type": "code",
   "execution_count": 3,
   "metadata": {},
   "outputs": [],
   "source": [
    "import os\n",
    "\n",
    "file_path = os.path.join(os.getcwd(), 'ICPSR_27521-V1', 'ICPSR_27521', 'DS0001', '27521-0001-Data.tsv')\n",
    "if not os.path.exists(file_path):\n",
    "    raise FileNotFoundError(f'{file_path} not found\\n Check the path to the data')"
   ]
  },
  {
   "cell_type": "markdown",
   "metadata": {},
   "source": [
    "## Wczytanie danych"
   ]
  },
  {
   "cell_type": "code",
   "execution_count": 18,
   "metadata": {},
   "outputs": [],
   "source": [
    "import pandas as pd\n",
    "df = pd.read_csv(file_path, sep='\\t', low_memory=False)"
   ]
  },
  {
   "cell_type": "markdown",
   "metadata": {},
   "source": [
    "Sprawdzenie wymiarów zbioru danych"
   ]
  },
  {
   "cell_type": "code",
   "execution_count": 22,
   "metadata": {},
   "outputs": [
    {
     "name": "stdout",
     "output_type": "stream",
     "text": [
      "55602 rows\n",
      "3011 columns\n"
     ]
    }
   ],
   "source": [
    "print(df.shape[0], 'rows')\n",
    "print(df.shape[1], 'columns')"
   ]
  },
  {
   "cell_type": "markdown",
   "metadata": {},
   "source": [
    "Przetestowałem wykorzystanie dataframe z biblioteki `dask`, ale większość poleceń poza wczytywaniem była znacząco dłuższa (wykorzystanie `.compute()` dla wczytanego dataframe zajmowało 2-3x więcej czasu niż wczytanie przy pomocy `pandas`)"
   ]
  },
  {
   "cell_type": "markdown",
   "metadata": {},
   "source": [
    "## Wstępna analiza"
   ]
  },
  {
   "cell_type": "markdown",
   "metadata": {},
   "source": [
    "Po przeczytaniu następujących artykułów:\n",
    "- Silverstein, Brett; Levin, Eitan, \"Differences in the developmental\n",
    "patterns of depression with and without additional somatic symptoms.\"\n",
    "Psychiatry Research. Dec 2014, 220, (1-2), 254 - 257. DOI:\n",
    "10.1016/j.psychres.2014.07.054\n",
    "- Thompson, Melissa, \"Gender, Mental Illness, and Crime.\" Final Technical\n",
    "Report. NCJ 224028, Sep 2008. 2007-IJ-CX-0004\n",
    "\n",
    "oraz przejrzeniu Codebook, do wstępnej analizy wybrane zostały następujące cechy (w nawiasie % brakujących danych):\n",
    "- rodzaj depresji w ostatnim roku:\n",
    "  - utworzona zostanie nowa kolumna `DEPRESSIONTYPELASTYR`, która przyjmie następujące wartości:\n",
    "    - `0`: brak depresji,\n",
    "    - `1`: 'czysta' depresja,\n",
    "    - `2`: depresja somatyczna;\n",
    "  - wykorzystane zostaną kolumny:\n",
    "    - czy wystąpił silny epizod depresyjny w ostatnim roku `MDEYR` (0.8%),\n",
    "    - \n",
    "- płeć: `IRSEX` (0%),\n",
    "- wiek: `CATAG7` (0%),\n",
    "- współczynnik uzależnienia od narkotyków: `ANYINDEX` ()\n",
    "- kiedy ostatnio brał jakiekolwiek nielegalne narkotyki `ANYILLICITRC` (0%)\n",
    "- czy popełnił przestępstwo: `ANYCRIME` (0.1%),\n",
    "- czy kiedykolwiek został aresztowany: `CRIMEHIST` (0.3%),\n",
    "- czy kiedykolwiek użył środków przeciwbólowych do celów niemedycznych `ANLEVER` (0.3%)\n",
    "- czy pracuje lub chodzi do szkoły `WORKSCHOOL` (0%)"
   ]
  },
  {
   "cell_type": "markdown",
   "metadata": {},
   "source": []
  }
 ],
 "metadata": {
  "kernelspec": {
   "display_name": ".venv",
   "language": "python",
   "name": "python3"
  },
  "language_info": {
   "codemirror_mode": {
    "name": "ipython",
    "version": 3
   },
   "file_extension": ".py",
   "mimetype": "text/x-python",
   "name": "python",
   "nbconvert_exporter": "python",
   "pygments_lexer": "ipython3",
   "version": "3.11.11"
  }
 },
 "nbformat": 4,
 "nbformat_minor": 2
}
