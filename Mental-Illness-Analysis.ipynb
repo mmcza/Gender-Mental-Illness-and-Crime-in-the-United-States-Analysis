{
 "cells": [
  {
   "cell_type": "markdown",
   "metadata": {},
   "source": [
    "# Gender, Mental Illness, and Crime in the United States, 2004 Analysis"
   ]
  },
  {
   "cell_type": "markdown",
   "metadata": {},
   "source": [
    "## Instalacja bibliotek"
   ]
  },
  {
   "cell_type": "code",
   "execution_count": 1,
   "metadata": {},
   "outputs": [
    {
     "name": "stdout",
     "output_type": "stream",
     "text": [
      "Requirement already satisfied: pandas in ./.venv/lib/python3.11/site-packages (from -r requirements.txt (line 1)) (2.2.3)\n",
      "Requirement already satisfied: numpy in ./.venv/lib/python3.11/site-packages (from -r requirements.txt (line 2)) (2.2.2)\n",
      "Requirement already satisfied: matplotlib in ./.venv/lib/python3.11/site-packages (from -r requirements.txt (line 3)) (3.10.0)\n",
      "Requirement already satisfied: scikit-learn in ./.venv/lib/python3.11/site-packages (from -r requirements.txt (line 4)) (1.6.1)\n",
      "Requirement already satisfied: statsmodels in ./.venv/lib/python3.11/site-packages (from -r requirements.txt (line 5)) (0.14.4)\n",
      "Requirement already satisfied: seaborn in ./.venv/lib/python3.11/site-packages (from -r requirements.txt (line 6)) (0.13.2)\n",
      "Requirement already satisfied: scipy in ./.venv/lib/python3.11/site-packages (from -r requirements.txt (line 7)) (1.15.1)\n",
      "Requirement already satisfied: python-dateutil>=2.8.2 in ./.venv/lib/python3.11/site-packages (from pandas->-r requirements.txt (line 1)) (2.9.0.post0)\n",
      "Requirement already satisfied: pytz>=2020.1 in ./.venv/lib/python3.11/site-packages (from pandas->-r requirements.txt (line 1)) (2024.2)\n",
      "Requirement already satisfied: tzdata>=2022.7 in ./.venv/lib/python3.11/site-packages (from pandas->-r requirements.txt (line 1)) (2025.1)\n",
      "Requirement already satisfied: contourpy>=1.0.1 in ./.venv/lib/python3.11/site-packages (from matplotlib->-r requirements.txt (line 3)) (1.3.1)\n",
      "Requirement already satisfied: cycler>=0.10 in ./.venv/lib/python3.11/site-packages (from matplotlib->-r requirements.txt (line 3)) (0.12.1)\n",
      "Requirement already satisfied: fonttools>=4.22.0 in ./.venv/lib/python3.11/site-packages (from matplotlib->-r requirements.txt (line 3)) (4.55.5)\n",
      "Requirement already satisfied: kiwisolver>=1.3.1 in ./.venv/lib/python3.11/site-packages (from matplotlib->-r requirements.txt (line 3)) (1.4.8)\n",
      "Requirement already satisfied: packaging>=20.0 in ./.venv/lib/python3.11/site-packages (from matplotlib->-r requirements.txt (line 3)) (24.2)\n",
      "Requirement already satisfied: pillow>=8 in ./.venv/lib/python3.11/site-packages (from matplotlib->-r requirements.txt (line 3)) (11.1.0)\n",
      "Requirement already satisfied: pyparsing>=2.3.1 in ./.venv/lib/python3.11/site-packages (from matplotlib->-r requirements.txt (line 3)) (3.2.1)\n",
      "Requirement already satisfied: joblib>=1.2.0 in ./.venv/lib/python3.11/site-packages (from scikit-learn->-r requirements.txt (line 4)) (1.4.2)\n",
      "Requirement already satisfied: threadpoolctl>=3.1.0 in ./.venv/lib/python3.11/site-packages (from scikit-learn->-r requirements.txt (line 4)) (3.5.0)\n",
      "Requirement already satisfied: patsy>=0.5.6 in ./.venv/lib/python3.11/site-packages (from statsmodels->-r requirements.txt (line 5)) (1.0.1)\n",
      "Requirement already satisfied: six>=1.5 in ./.venv/lib/python3.11/site-packages (from python-dateutil>=2.8.2->pandas->-r requirements.txt (line 1)) (1.17.0)\n"
     ]
    }
   ],
   "source": [
    "!pip install -r requirements.txt"
   ]
  },
  {
   "cell_type": "markdown",
   "metadata": {},
   "source": [
    "## Sprawdzenie czy dane są dostępne"
   ]
  },
  {
   "cell_type": "code",
   "execution_count": 2,
   "metadata": {},
   "outputs": [],
   "source": [
    "import os\n",
    "\n",
    "file_path = os.path.join(os.getcwd(), 'ICPSR_27521-V1', 'ICPSR_27521', 'DS0001', '27521-0001-Data.tsv')\n",
    "if not os.path.exists(file_path):\n",
    "    raise FileNotFoundError(f'{file_path} nie został znaleziony\\n Sprawdź ścieżkę')"
   ]
  },
  {
   "cell_type": "markdown",
   "metadata": {},
   "source": [
    "## Wczytanie danych"
   ]
  },
  {
   "cell_type": "code",
   "execution_count": 3,
   "metadata": {},
   "outputs": [],
   "source": [
    "import pandas as pd\n",
    "df = pd.read_csv(file_path, sep='\\t', low_memory=False)"
   ]
  },
  {
   "cell_type": "markdown",
   "metadata": {},
   "source": [
    "Sprawdzenie wymiarów zbioru danych"
   ]
  },
  {
   "cell_type": "code",
   "execution_count": 4,
   "metadata": {},
   "outputs": [
    {
     "name": "stdout",
     "output_type": "stream",
     "text": [
      "55602 rzędów\n",
      "3011 kolumn\n"
     ]
    }
   ],
   "source": [
    "print(df.shape[0], 'rzędów')\n",
    "print(df.shape[1], 'kolumn')"
   ]
  },
  {
   "cell_type": "markdown",
   "metadata": {},
   "source": [
    "Przetestowałem wykorzystanie dataframe z biblioteki `dask`, ale większość poleceń poza wczytywaniem była znacząco dłuższa (wykorzystanie `.compute()` dla wczytanego dataframe zajmowało 2-3x więcej czasu niż wczytanie przy pomocy `pandas`)"
   ]
  },
  {
   "cell_type": "markdown",
   "metadata": {},
   "source": [
    "## Wstępna analiza"
   ]
  },
  {
   "cell_type": "markdown",
   "metadata": {},
   "source": [
    "### Cecha do predykcji"
   ]
  },
  {
   "cell_type": "markdown",
   "metadata": {},
   "source": [
    "Jako cecha do predykcji wybrana została kolumna `MDEYR`, która opisuje czy u respondenta w ostatnim roku wystąpił silny epizod depresyjny. Kolumna `DEPRESSIONINDEX` została odrzucona, ponieważ autorzy dodali przy niej komentarz `don’t use this one` (strona 1530 w Codebook), a dla wskaźnika `DEPRESSIONINDEX2` brakuje 93.2% danych. Z tego względu zadanie predykcji będzie zadaniem klasyfikacji, a nie regresji.\n",
    "\n",
    "Pierwszym krokiem jest sprawdzenie ile jest brakujących danych w kolumnie `MDEYR`. Na podstawie Codebook poszczególne wartości w tej kolumnie oznaczają:\n",
    "- `1` - respondent miał silny epizod depresyjny w ostatnim roku,\n",
    "- `2` - respondent nie miał silnego epizodu depresyjnego w ostatnim roku,\n",
    "- `3` - respondent poza zakresem - oznacza to, że był w próbce osób, które nie otrzymały pytań na temat zrowia psychicznego,\n",
    "- `-9` - brak danych.\n",
    "\n",
    "Na tej podstawie respondenci, dla których pojawiła się wartość `3` lub `-9` zostaną odrzuceni, ponieważ nie byłoby możliwości ich wykorzystania w uczeniu ze względu na brak ground truth. W innym przypadku mógłby to być zbiór testowy."
   ]
  },
  {
   "cell_type": "code",
   "execution_count": 5,
   "metadata": {},
   "outputs": [
    {
     "name": "stdout",
     "output_type": "stream",
     "text": [
      "MDEYR\n",
      " 2    33026\n",
      " 3    18630\n",
      " 1     3506\n",
      "-9      440\n",
      "Name: count, dtype: int64\n",
      "19070 rzędów z brakującymi danymi\n",
      "36532 rzędów bez brakujących danych\n"
     ]
    }
   ],
   "source": [
    "print(df['MDEYR'].value_counts())\n",
    "\n",
    "num_of_missing_data = df['MDEYR'].value_counts()[-9] + df['MDEYR'].value_counts()[3]\n",
    "print(num_of_missing_data, 'rzędów z brakującymi danymi')\n",
    "print(df.shape[0] - num_of_missing_data, 'rzędów bez brakujących danych')"
   ]
  },
  {
   "cell_type": "code",
   "execution_count": 6,
   "metadata": {},
   "outputs": [
    {
     "name": "stdout",
     "output_type": "stream",
     "text": [
      "36532 rzędów po usunięciu brakujących danych\n"
     ]
    }
   ],
   "source": [
    "df = df[~df['MDEYR'].isin([-9, 3])]\n",
    "df = df.reset_index(drop=True)\n",
    "print(df.shape[0], 'rzędów po usunięciu brakujących danych')\n",
    "# Reset index"
   ]
  },
  {
   "cell_type": "markdown",
   "metadata": {},
   "source": [
    "Po usunięciu brakujących danych, rozkłąd wartości wygląda następująco."
   ]
  },
  {
   "cell_type": "code",
   "execution_count": 7,
   "metadata": {},
   "outputs": [
    {
     "data": {
      "image/png": "[encoded data removed]",
      "text/plain": [
       "<Figure size 640x480 with 1 Axes>"
      ]
     },
     "metadata": {},
     "output_type": "display_data"
    }
   ],
   "source": [
    "import matplotlib.pyplot as plt\n",
    "df['MDEYR'].value_counts().plot(kind='bar')\n",
    "plt.title('Rozkład wartości dla MDEYR')\n",
    "plt.xlabel('MDEYR')\n",
    "plt.ylabel('Ilość odpowiedzi')\n",
    "plt.show()"
   ]
  },
  {
   "cell_type": "markdown",
   "metadata": {},
   "source": [
    "Na rysunku powyżej widać, że większość respondentów odpowiedziała, że w ostatnim roku nie miała silnego stanu depresyjnego."
   ]
  },
  {
   "cell_type": "markdown",
   "metadata": {},
   "source": [
    "Uutworzona zostanie również nowa kolumna `DEPRESSIONTYPELASTYR`, która przyjmie następujące wartości:\n",
    "    - `0`: brak depresji,\n",
    "    - `1`: 'czysta' depresja,\n",
    "    - `2`: depresja somatyczna;\n",
    "Do jej powstania wykorzystane zostaną kolumny:\n",
    "    - czy wystąpił silny epizod depresyjny w ostatnim roku `MDEYR`,\n",
    "    - przy stanach depresyjnych zmmiany apetytu u dorosłych `AD_MDEA3` i młodzieży `YO_MDEA3`,\n",
    "    - przy stanach depresyjnych problemy ze snem u dorosłych `AD_MDEA4` i młodzieży `YO_MDEA4`,\n",
    "    - przy stanach depresyjnych poczucie zmęczenia u dorosłych `AD_MDEA6` i młodzieży `YO_MDEA6`.\n",
    "  \n",
    "Następnym krokiem jest utworzenie nowej kolumny i dodanie informacji o symptomach."
   ]
  },
  {
   "cell_type": "code",
   "execution_count": 8,
   "metadata": {},
   "outputs": [],
   "source": [
    "def depression_type(row):\n",
    "    if row['MDEYR'] == 1 and row['YO_MDEA3'] == 1 and row['YO_MDEA4'] == 1 and row['YO_MDEA6'] == 1:\n",
    "        return 2\n",
    "    elif row['MDEYR'] == 1 and row['AD_MDEA3'] == 1 and row['AD_MDEA4'] == 1 and row['AD_MDEA6'] == 1:\n",
    "        return 2\n",
    "    elif row['MDEYR'] == 1:\n",
    "        return 1\n",
    "    else:\n",
    "        return 0\n",
    "    \n",
    "df['DEPRESSIONTYPELASTYR'] = df.apply(depression_type, axis=1)"
   ]
  },
  {
   "cell_type": "code",
   "execution_count": 9,
   "metadata": {},
   "outputs": [
    {
     "data": {
      "image/png": "[encoded data removed]",
      "text/plain": [
       "<Figure size 640x480 with 1 Axes>"
      ]
     },
     "metadata": {},
     "output_type": "display_data"
    }
   ],
   "source": [
    "df['DEPRESSIONTYPELASTYR'].value_counts().plot(kind='bar')\n",
    "plt.title('Rozkład wartości dla DEPRESSIONTYPELASTYR')\n",
    "plt.xlabel('DEPRESSIONTYPELASTYR')\n",
    "plt.ylabel('Ilość odpowiedzi')\n",
    "plt.show()"
   ]
  },
  {
   "cell_type": "markdown",
   "metadata": {},
   "source": [
    "Jak widać, większość osób, które miały silny epizod depresyjny miały również 3 symptomy somatyczne.\n",
    "\n",
    "Ostateczna predykcja będzie 2 stopniowa:\n",
    "- poziom 1: predykcja czy osoba miała silny stan depresyjny w ostatnim roku,\n",
    "- poziom 2: wykorzystując poziom 1 nastąpi predykcja czy była to depresja 'bezobjawowa' czy somatyczna."
   ]
  },
  {
   "cell_type": "markdown",
   "metadata": {},
   "source": [
    "### Wybór i czyszczenie cech"
   ]
  },
  {
   "cell_type": "markdown",
   "metadata": {},
   "source": [
    "Po przejrzeniu następujących artykułów:\n",
    "- Silverstein, Brett; Levin, Eitan, \"Differences in the developmental\n",
    "patterns of depression with and without additional somatic symptoms.\"\n",
    "Psychiatry Research. Dec 2014, 220, (1-2), 254 - 257. DOI:\n",
    "10.1016/j.psychres.2014.07.054\n",
    "- Thompson, Melissa, \"Gender, Mental Illness, and Crime.\" Final Technical\n",
    "Report. NCJ 224028, Sep 2008. 2007-IJ-CX-0004\n",
    "\n",
    "oraz przeszukaniu Codebook, do wstępnej analizy wybrane zostały następujące cechy:\n",
    "- płeć: `IRSEX`,\n",
    "- wiek: `CATAG7`,\n",
    "- współczynnik uzależnienia od narkotyków: `ANYINDEX`,\n",
    "- kiedy ostatnio brał jakiekolwiek nielegalne narkotyki: `ANYILLICITRC`,\n",
    "- czy używał marichuany/kokainy w ostatnim roku: `MJCOKELY`\n",
    "- czy kiedykolwiek użył środków przeciwbólowych do celów niemedycznych: `ANLEVER`,\n",
    "- czy popełnił przestępstwo: `ANYCRIME`,\n",
    "- czy kiedykolwiek został aresztowany: `CRIMEHIST`,\n",
    "- czy pracuje lub chodzi do szkoły: `WORKSCHOOL`,\n",
    "- poziom edukacji: `IREDUC2`,\n",
    "- ogólny poziom zdrowia: `HEALTH2`,\n",
    "- czy respondent ma jakiekolwiek ubezpieczenie zdrowotne: `ANYHLTI2`,\n",
    "- stan cywilny: `IRMARIT`,\n",
    "- typ mieszkania: `CACHAR`,\n",
    "- dochód rodziny: `INCOME`,\n",
    "- uzależnienie od narkotyków lub alkoholu w ostatnim roku: `DPILLALC`,\n",
    "- nadużywanie alkoholu w ostatnim roku: `ABUSEALC`,\n",
    "- gęstość zaludnienia: `REVERSEPOP`."
   ]
  },
  {
   "cell_type": "code",
   "execution_count": 10,
   "metadata": {},
   "outputs": [],
   "source": [
    "columns_to_use = [\n",
    "    'MDEYR',\n",
    "    'DEPRESSIONTYPELASTYR',\n",
    "    'IRSEX',\n",
    "    'CATAG7',\n",
    "    'ANYINDEX',\n",
    "    'ANYILLICITRC',\n",
    "    'MJCOKELY',\n",
    "    'ANLEVER',\n",
    "    'ANYCRIME',\n",
    "    'CRIMEHIST',\n",
    "    'WORKSCHOOL',\n",
    "    'IREDUC2',\n",
    "    'HEALTH2',\n",
    "    'ANYHLTI2',\n",
    "    'IRMARIT',\n",
    "    'CACHAR',\n",
    "    'INCOME',\n",
    "    'DPILLALC',\n",
    "    'ABUSEALC',\n",
    "    'REVERSEPOP'\n",
    "]\n",
    "\n",
    "df = df[columns_to_use]"
   ]
  },
  {
   "cell_type": "markdown",
   "metadata": {},
   "source": [
    "W niektórych z kolumn wartości wymagają ręcznego poprawienia, ponieważ zostały dobrane w sposób, który mógłby utrudnić analizę."
   ]
  },
  {
   "cell_type": "code",
   "execution_count": 11,
   "metadata": {},
   "outputs": [],
   "source": [
    "values_to_replace = {\n",
    "    'ANYILLICITRC': [[9, 4]],\n",
    "    'ANLEVER': [[81, 0], [91, 0]],\n",
    "    'IRMARIT': [[99, 5]]\n",
    "}"
   ]
  },
  {
   "cell_type": "code",
   "execution_count": 12,
   "metadata": {},
   "outputs": [],
   "source": [
    "for column, values in values_to_replace.items():\n",
    "    for value in values:\n",
    "        df[column] = df[column].replace(value[0], value[1])"
   ]
  },
  {
   "cell_type": "markdown",
   "metadata": {},
   "source": [
    "Słownik z oznaczeniami brakujących danych w poszczególnych kolumnach"
   ]
  },
  {
   "cell_type": "code",
   "execution_count": 13,
   "metadata": {},
   "outputs": [],
   "source": [
    "missing_values = {\n",
    "    'IRSEX': [],\n",
    "    'CATAG7': [],\n",
    "    'ANYINDEX': [-1],\n",
    "    'ANYILLICITRC': [],\n",
    "    'MJCOKELY': [],\n",
    "    'ANLEVER': [97, 98],\n",
    "    'ANYCRIME': [-1],\n",
    "    'CRIMEHIST': [-1],\n",
    "    'WORKSCHOOL': [-1],\n",
    "    'IREDUC2': [],\n",
    "    'HEALTH2': [-9],\n",
    "    'ANYHLTI2': [94, 97, 98],\n",
    "    'IRMARIT': [],\n",
    "    'CACHAR': [-9],\n",
    "    'INCOME': [],\n",
    "    'DPILLALC': [],\n",
    "    'ABUSEALC': [],\n",
    "    'REVERSEPOP': []    \n",
    "}"
   ]
  },
  {
   "cell_type": "markdown",
   "metadata": {},
   "source": [
    "Obliczenie ilości brakujących danych w każdej kolumnie (i procentowego udziału)"
   ]
  },
  {
   "cell_type": "code",
   "execution_count": 14,
   "metadata": {},
   "outputs": [
    {
     "name": "stdout",
     "output_type": "stream",
     "text": [
      "IRSEX: 0 (0.00%)\n",
      "CATAG7: 0 (0.00%)\n",
      "ANYINDEX: 25 (0.07%)\n",
      "ANYILLICITRC: 0 (0.00%)\n",
      "MJCOKELY: 0 (0.00%)\n",
      "ANLEVER: 134 (0.37%)\n",
      "ANYCRIME: 21 (0.06%)\n",
      "CRIMEHIST: 74 (0.20%)\n",
      "WORKSCHOOL: 4 (0.01%)\n",
      "IREDUC2: 0 (0.00%)\n",
      "HEALTH2: 10 (0.03%)\n",
      "ANYHLTI2: 327 (0.90%)\n",
      "IRMARIT: 0 (0.00%)\n",
      "CACHAR: 7 (0.02%)\n",
      "INCOME: 0 (0.00%)\n",
      "DPILLALC: 0 (0.00%)\n",
      "ABUSEALC: 0 (0.00%)\n",
      "REVERSEPOP: 0 (0.00%)\n"
     ]
    }
   ],
   "source": [
    "indices_with_missing_data = []\n",
    "\n",
    "for column, missing_values_list in missing_values.items():\n",
    "    mask = df[column].isin(missing_values_list)\n",
    "    num_of_missing_data = mask.sum()\n",
    "    print(f'{column}: {num_of_missing_data} ({num_of_missing_data / df.shape[0] * 100:.2f}%)')\n",
    "    indices_with_missing_data.extend(df[mask].index.to_list())"
   ]
  },
  {
   "cell_type": "markdown",
   "metadata": {},
   "source": [
    "Jeżeli w jakimś rzędzie brakuje przynajmniej 2 wartości to zostanie on usunięty"
   ]
  },
  {
   "cell_type": "code",
   "execution_count": 15,
   "metadata": {},
   "outputs": [
    {
     "name": "stdout",
     "output_type": "stream",
     "text": [
      "[11160, 33603, 18284, 24234, 25274, 32562, 23890, 30175, 34604, 10587]\n"
     ]
    }
   ],
   "source": [
    "from collections import Counter\n",
    "index_counts = Counter(indices_with_missing_data)\n",
    "indices_to_remove = [index for index, count in index_counts.items() if count >= 2]\n",
    "\n",
    "print(indices_to_remove)\n",
    "df = df.drop(indices_to_remove)\n",
    "df = df.reset_index(drop=True)"
   ]
  },
  {
   "cell_type": "markdown",
   "metadata": {},
   "source": [
    "Sprawdzenie typów wartości w poszczególnych kolumnach"
   ]
  },
  {
   "cell_type": "code",
   "execution_count": 16,
   "metadata": {},
   "outputs": [
    {
     "name": "stdout",
     "output_type": "stream",
     "text": [
      "<class 'pandas.core.frame.DataFrame'>\n",
      "RangeIndex: 36522 entries, 0 to 36521\n",
      "Data columns (total 20 columns):\n",
      " #   Column                Non-Null Count  Dtype  \n",
      "---  ------                --------------  -----  \n",
      " 0   MDEYR                 36522 non-null  int64  \n",
      " 1   DEPRESSIONTYPELASTYR  36522 non-null  int64  \n",
      " 2   IRSEX                 36522 non-null  int64  \n",
      " 3   CATAG7                36522 non-null  int64  \n",
      " 4   ANYINDEX              36522 non-null  float64\n",
      " 5   ANYILLICITRC          36522 non-null  int64  \n",
      " 6   MJCOKELY              36522 non-null  int64  \n",
      " 7   ANLEVER               36522 non-null  int64  \n",
      " 8   ANYCRIME              36522 non-null  int64  \n",
      " 9   CRIMEHIST             36522 non-null  int64  \n",
      " 10  WORKSCHOOL            36522 non-null  int64  \n",
      " 11  IREDUC2               36522 non-null  int64  \n",
      " 12  HEALTH2               36522 non-null  int64  \n",
      " 13  ANYHLTI2              36522 non-null  int64  \n",
      " 14  IRMARIT               36522 non-null  int64  \n",
      " 15  CACHAR                36522 non-null  int64  \n",
      " 16  INCOME                36522 non-null  int64  \n",
      " 17  DPILLALC              36522 non-null  int64  \n",
      " 18  ABUSEALC              36522 non-null  int64  \n",
      " 19  REVERSEPOP            36522 non-null  int64  \n",
      "dtypes: float64(1), int64(19)\n",
      "memory usage: 5.6 MB\n",
      "None\n"
     ]
    }
   ],
   "source": [
    "print(df.info())\n",
    "int64_columns = df.select_dtypes(include=['int64']).columns"
   ]
  },
  {
   "cell_type": "code",
   "execution_count": 17,
   "metadata": {},
   "outputs": [
    {
     "name": "stdout",
     "output_type": "stream",
     "text": [
      "13\n"
     ]
    }
   ],
   "source": [
    "print(df['ANYINDEX'].nunique())"
   ]
  },
  {
   "cell_type": "markdown",
   "metadata": {},
   "source": [
    "Ze względu na fakt, że kolumna `ANYINDEX` posiada wartości typu `float64`, gdzie jest 12 unikalnych wartości (trzynasta oznacza braki), to dla ułatwienia wiersze, w których brakuje wartości w tej kolumnie, zostaną usunięte. "
   ]
  },
  {
   "cell_type": "code",
   "execution_count": 18,
   "metadata": {},
   "outputs": [],
   "source": [
    "df = df[df['ANYINDEX'] != -1]\n",
    "df = df.reset_index(drop=True)"
   ]
  },
  {
   "cell_type": "markdown",
   "metadata": {},
   "source": [
    "Pozostałe brakujące wartości zostaną uzupełnione przy pomocy metody KNN"
   ]
  },
  {
   "cell_type": "code",
   "execution_count": 19,
   "metadata": {},
   "outputs": [],
   "source": [
    "# Use KNN Imputer to fill missing values\n",
    "from sklearn.impute import KNNImputer\n",
    "imputer = KNNImputer(n_neighbors=11)\n",
    "df_imputed = imputer.fit_transform(df)"
   ]
  },
  {
   "cell_type": "code",
   "execution_count": 20,
   "metadata": {},
   "outputs": [],
   "source": [
    "df_imputed = pd.DataFrame(df_imputed, columns=df.columns)\n",
    "df_imputed[int64_columns] = df_imputed[int64_columns].astype('int64')"
   ]
  },
  {
   "cell_type": "code",
   "execution_count": 21,
   "metadata": {},
   "outputs": [],
   "source": [
    "df = df_imputed"
   ]
  },
  {
   "cell_type": "markdown",
   "metadata": {},
   "source": [
    "### Analiza czynników wpływających na występowanie depresji"
   ]
  }
 ],
 "metadata": {
  "kernelspec": {
   "display_name": ".venv",
   "language": "python",
   "name": "python3"
  },
  "language_info": {
   "codemirror_mode": {
    "name": "ipython",
    "version": 3
   },
   "file_extension": ".py",
   "mimetype": "text/x-python",
   "name": "python",
   "nbconvert_exporter": "python",
   "pygments_lexer": "ipython3",
   "version": "3.11.11"
  }
 },
 "nbformat": 4,
 "nbformat_minor": 2
}
